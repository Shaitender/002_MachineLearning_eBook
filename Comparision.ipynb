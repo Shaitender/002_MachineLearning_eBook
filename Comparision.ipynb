{
  "nbformat": 4,
  "nbformat_minor": 0,
  "metadata": {
    "colab": {
      "name": "Comparision.ipynb",
      "provenance": [],
      "collapsed_sections": [],
      "include_colab_link": true
    },
    "kernelspec": {
      "name": "python3",
      "display_name": "Python 3"
    }
  },
  "cells": [
    {
      "cell_type": "markdown",
      "metadata": {
        "id": "view-in-github",
        "colab_type": "text"
      },
      "source": [
        "<a href=\"https://colab.research.google.com/github/Shaitender/002_MachineLearning_eBook/blob/master/Comparision.ipynb\" target=\"_parent\"><img src=\"https://colab.research.google.com/assets/colab-badge.svg\" alt=\"Open In Colab\"/></a>"
      ]
    },
    {
      "cell_type": "code",
      "metadata": {
        "id": "H9D0sO9ho9hS",
        "colab_type": "code",
        "outputId": "3cbd2215-390a-49df-8486-2507aa41dcf1",
        "colab": {
          "base_uri": "https://localhost:8080/",
          "height": 187
        }
      },
      "source": [
        "!pip install diff_match_patch\n",
        "\n"
      ],
      "execution_count": 1,
      "outputs": [
        {
          "output_type": "stream",
          "text": [
            "Collecting diff_match_patch\n",
            "\u001b[?25l  Downloading https://files.pythonhosted.org/packages/f0/2a/5ba07def0e9107d935aba62cf632afbd0f7c723a98af47ccbcab753d2452/diff-match-patch-20181111.tar.gz (58kB)\n",
            "\u001b[K     |████████████████████████████████| 61kB 4.0MB/s \n",
            "\u001b[?25hBuilding wheels for collected packages: diff-match-patch\n",
            "  Building wheel for diff-match-patch (setup.py) ... \u001b[?25l\u001b[?25hdone\n",
            "  Created wheel for diff-match-patch: filename=diff_match_patch-20181111-cp36-none-any.whl size=58509 sha256=db6835d3cfd4b335c5534d7cfa1f423734d9b2e9882e6ca19404a663cea4e879\n",
            "  Stored in directory: /root/.cache/pip/wheels/7f/b9/67/9dd5c4fb30e5ca5011a0ff4fd59582e59bc1de7808d97bb788\n",
            "Successfully built diff-match-patch\n",
            "Installing collected packages: diff-match-patch\n",
            "Successfully installed diff-match-patch-20181111\n"
          ],
          "name": "stdout"
        }
      ]
    },
    {
      "cell_type": "code",
      "metadata": {
        "id": "LVjkGUF-pd2m",
        "colab_type": "code",
        "colab": {}
      },
      "source": [
        "text1 = \"\"\"by and between Raiden Unlimited Company an Irish limited liability company with a principal place of business at 70 Sir John Rogerson's Quay, Dublin 2, Ireland (CUSTOMER) and ATM S.A. a Poland joint-stock company with a principal place of business at Grochowska 21a, 04-186 Warszawa (Service Provider). The following documents are attached to and made part of this Service Exhibit: Schedule 1: Service Level Agreement Schedule 2: Supplemental Ser\"\"\"\n",
        "text1_lines = text1.splitlines()\n",
        "\n",
        "text2 = \"\"\" by and between Regeneron Pharmaceuticals, Inc., having an address at 777 Old Saw Mill River Road, Tarrytown, NY 10591 (together with its Affiliates, Regeneron), and Google LLC, having an address at 1600 Amphitheatre Parkway, Mountain View, CA 94043 (together with its subsidiaries and Affiliates Google). Regeneron and Google are each individually a Party and collectively the Parties. 1. Purpose of Disclosure. The Parties are interested in discussing and evaluating a potential business relationship between the Parties relating to the provision of information technology services to Regeneron involving Google's deep learning tools and capabilities for image processing and combining genotypes and image-derived phenotypes (the Purpose) and in connection therewith a Party \"\"\"\n",
        "text2_lines = text2.splitlines()"
      ],
      "execution_count": 0,
      "outputs": []
    },
    {
      "cell_type": "code",
      "metadata": {
        "id": "seKPEiBFqHeY",
        "colab_type": "code",
        "colab": {}
      },
      "source": [
        "from diff_match_patch import diff_match_patch\n",
        "\n",
        "dmp = diff_match_patch()\n",
        "patches = dmp.patch_make(text1, text2)\n",
        "diff = dmp.patch_toText(patches)"
      ],
      "execution_count": 0,
      "outputs": []
    },
    {
      "cell_type": "code",
      "metadata": {
        "id": "nrBRgvfIq48s",
        "colab_type": "code",
        "outputId": "e5154f50-3b58-4c65-9c0d-457992b1f5c7",
        "colab": {
          "base_uri": "https://localhost:8080/",
          "height": 173
        }
      },
      "source": [
        "print(diff)"
      ],
      "execution_count": 12,
      "outputs": [
        {
          "output_type": "stream",
          "text": [
            "@@ -1,8 +1,9 @@\n",
            "+ \n",
            " by and b\n",
            "@@ -14,434 +14,764 @@\n",
            " en R\n",
            "-aiden Unlimited Company an Irish limited liability company with a principal place of business at 70 Sir John Rogerson's Quay, Dublin 2, Ireland (CUSTOMER) and ATM S.A. a Poland joint-stock company with a principal place of business at Grochowska 21a, 04-186 Warszawa (Service Provider). The following documents are attached to and made part of this Service Exhibit: Schedule 1: Service Level Agreement Schedule 2: Supplemental Ser\n",
            "+egeneron Pharmaceuticals, Inc., having an address at 777 Old Saw Mill River Road, Tarrytown, NY 10591 (together with its Affiliates, Regeneron), and Google LLC, having an address at 1600 Amphitheatre Parkway, Mountain View, CA 94043 (together with its subsidiaries and Affiliates Google). Regeneron and Google are each individually a Party and collectively the Parties. 1. Purpose of Disclosure. The Parties are interested in discussing and evaluating a potential business relationship between the Parties relating to the provision of information technology services to Regeneron involving Google's deep learning tools and capabilities for image processing and combining genotypes and image-derived phenotypes (the Purpose) and in connection therewith a Party \n",
            "\n"
          ],
          "name": "stdout"
        }
      ]
    },
    {
      "cell_type": "code",
      "metadata": {
        "id": "E4c1BonyvOGz",
        "colab_type": "code",
        "outputId": "1b9956d0-b04e-412a-d9e9-4958e95e2090",
        "colab": {
          "base_uri": "https://localhost:8080/",
          "height": 54
        }
      },
      "source": [
        "print(diffs)"
      ],
      "execution_count": 0,
      "outputs": [
        {
          "output_type": "stream",
          "text": [
            "[(1, ' '), (0, 'by and between R'), (-1, 'aid'), (1, 'eg'), (0, 'en'), (1, 'eron'), (0, ' '), (-1, 'Unli'), (1, 'Phar'), (0, 'm'), (1, 'aceut'), (0, 'i'), (-1, 'ted'), (1, 'cals,'), (0, ' '), (-1, 'Comp'), (1, 'Inc., h'), (0, 'a'), (1, 'vi'), (0, 'n'), (-1, 'y'), (1, 'g'), (0, ' an '), (-1, 'I'), (1, 'add'), (0, 'r'), (-1, 'i'), (1, 'e'), (0, 's'), (-1, 'h'), (1, 's'), (0, ' '), (-1, 'limi'), (1, 'a'), (0, 't'), (-1, 'ed'), (0, ' '), (1, '777 O'), (0, 'l'), (-1, 'i'), (1, 'd S'), (0, 'a'), (-1, 'b'), (1, 'w M'), (0, 'il'), (1, 'l R'), (0, 'i'), (-1, 'ty'), (1, 'ver'), (0, ' '), (-1, 'c'), (1, 'R'), (0, 'o'), (-1, 'mp'), (1, 'ad, T'), (0, 'a'), (1, 'rrytow'), (0, 'n'), (-1, 'y'), (1, ', NY 10591 (together'), (0, ' with '), (1, 'its Affili'), (0, 'a'), (1, 'tes,'), (0, ' '), (-1, 'p'), (1, 'Regene'), (0, 'r'), (-1, 'i'), (1, 'o'), (0, 'n'), (-1, 'cip'), (1, '), '), (0, 'a'), (-1, 'l'), (1, 'nd'), (0, ' '), (-1, 'p'), (1, 'Goog'), (0, 'l'), (-1, 'ac'), (0, 'e '), (-1, 'of'), (1, 'LLC,'), (0, ' '), (-1, 'bus'), (1, 'hav'), (0, 'in'), (1, 'g an addr'), (0, 'ess at '), (-1, '7'), (1, '160'), (0, '0 '), (-1, 'S'), (1, 'Amph'), (0, 'i'), (1, 'theat'), (0, 'r'), (1, 'e'), (0, ' '), (-1, 'J'), (1, 'Parkway, M'), (0, 'o'), (-1, 'h'), (1, 'untai'), (0, 'n '), (-1, 'R'), (1, 'View, CA 94043 (t'), (0, 'oge'), (1, 'the'), (0, 'r'), (-1, \"son's\"), (0, ' '), (-1, 'Quay,'), (1, 'with'), (0, ' '), (-1, 'D'), (1, 'its s'), (0, 'ub'), (-1, 'l'), (1, 's'), (0, 'i'), (-1, 'n 2, I'), (1, 'dia'), (0, 'r'), (1, 'i'), (0, 'e'), (-1, 'l'), (1, 's '), (0, 'and '), (-1, '(CUSTOMER'), (1, 'Affiliates Google'), (0, ')'), (1, '. Regeneron'), (0, ' and '), (-1, 'ATM'), (1, 'Google'), (0, ' '), (-1, 'S.A.'), (1, 'are'), (0, ' '), (1, 'e'), (0, 'a'), (1, 'ch'), (0, ' '), (-1, 'Po'), (1, 'individual'), (0, 'l'), (1, 'y a Party '), (0, 'and '), (-1, 'j'), (1, 'c'), (0, 'o'), (1, 'llect'), (0, 'i'), (-1, 'n'), (1, 'vely '), (0, 't'), (-1, '-s'), (1, 'he Par'), (0, 't'), (1, 'ies. 1. Purp'), (0, 'o'), (-1, 'ck'), (1, 'se'), (0, ' '), (1, 'of Dis'), (0, 'c'), (1, 'l'), (0, 'o'), (-1, 'mpany'), (1, 'sure.'), (0, ' '), (-1, 'wit'), (1, 'T'), (0, 'h'), (1, 'e'), (0, ' '), (1, 'P'), (0, 'a'), (1, 'rties'), (0, ' '), (-1, 'p'), (1, 'a'), (0, 'r'), (1, 'e '), (0, 'in'), (1, 'terested in dis'), (0, 'c'), (1, 'uss'), (0, 'i'), (-1, 'p'), (1, 'ng '), (0, 'a'), (-1, 'l'), (1, 'nd'), (0, ' '), (-1, 'p'), (1, 'eva'), (0, 'l'), (1, 'u'), (0, 'a'), (-1, 'ce'), (1, 'ting a'), (0, ' '), (1, 'p'), (0, 'o'), (-1, 'f'), (1, 'tential'), (0, ' business '), (1, 'rel'), (0, 'at'), (-1, ' Groch'), (1, 'i'), (0, 'o'), (-1, 'w'), (1, 'n'), (0, 's'), (-1, 'ka'), (1, 'hip'), (0, ' '), (-1, '21a,'), (1, 'between'), (0, ' '), (-1, '04-186'), (1, 'the'), (0, ' '), (-1, 'W'), (1, 'P'), (0, 'ar'), (1, 'tie'), (0, 's'), (-1, 'zaw'), (1, ' rel'), (0, 'a'), (1, 'ting'), (0, ' '), (-1, '(S'), (1, 'to th'), (0, 'e'), (1, ' p'), (0, 'r'), (1, 'o'), (0, 'vi'), (-1, 'ce'), (1, 'sion'), (0, ' '), (-1, 'P'), (1, 'of info'), (0, 'r'), (1, 'mati'), (0, 'o'), (1, 'n technology ser'), (0, 'vi'), (-1, 'd'), (1, 'c'), (0, 'e'), (-1, 'r).'), (1, 's'), (0, ' '), (-1, 'Th'), (1, 'to Reg'), (0, 'e'), (1, 'neron'), (0, ' '), (-1, 'f'), (1, 'inv'), (0, 'ol'), (-1, 'low'), (1, 'v'), (0, 'ing '), (-1, 'd'), (1, 'G'), (0, 'o'), (-1, 'cum'), (1, 'ogl'), (0, 'e'), (-1, 'nt'), (1, \"'\"), (0, 's '), (-1, 'ar'), (1, 'd'), (0, 'e'), (1, 'ep'), (0, ' '), (-1, 'attach'), (1, 'l'), (0, 'e'), (-1, 'd'), (1, 'arning'), (0, ' to'), (1, 'ols'), (0, ' and '), (-1, 'm'), (1, 'c'), (0, 'a'), (-1, 'de '), (0, 'pa'), (-1, 'r'), (1, 'bili'), (0, 't'), (1, 'ies'), (0, ' '), (-1, 'o'), (0, 'f'), (1, 'or'), (0, ' '), (-1, 'th'), (0, 'i'), (-1, 's S'), (1, 'mag'), (0, 'e'), (1, ' p'), (0, 'r'), (-1, 'vi'), (1, 'o'), (0, 'ce'), (-1, ' Exh'), (1, 'ss'), (0, 'i'), (1, 'ng and com'), (0, 'bi'), (-1, 't:'), (1, 'ning'), (0, ' '), (-1, 'Sch'), (1, 'g'), (0, 'e'), (-1, 'dul'), (1, 'notyp'), (0, 'e'), (1, 's'), (0, ' '), (-1, '1:'), (1, 'and'), (0, ' '), (-1, 'Serv'), (0, 'i'), (-1, 'c'), (1, 'mag'), (0, 'e'), (-1, ' L'), (1, '-d'), (0, 'e'), (1, 'ri'), (0, 've'), (-1, 'l'), (1, 'd'), (0, ' '), (-1, 'Agreem'), (1, 'ph'), (0, 'en'), (1, 'o'), (0, 't'), (1, 'ypes'), (0, ' '), (-1, 'Sc'), (1, '(t'), (0, 'he'), (-1, 'dule'), (0, ' '), (-1, '2: S'), (1, 'P'), (0, 'u'), (-1, 'p'), (1, 'r'), (0, 'p'), (-1, 'l'), (1, 'os'), (0, 'e'), (-1, 'm'), (1, ') and in conn'), (0, 'e'), (1, 'ctio'), (0, 'n'), (1, ' '), (0, 't'), (1, 'herewith '), (0, 'a'), (-1, 'l'), (0, ' '), (-1, 'Se'), (1, 'Pa'), (0, 'r'), (1, 'ty ')]\n"
          ],
          "name": "stdout"
        }
      ]
    },
    {
      "cell_type": "code",
      "metadata": {
        "id": "Sh0Gwu3qvZuf",
        "colab_type": "code",
        "colab": {}
      },
      "source": [
        "import re\n",
        "import textwrap\n",
        "import diff_match_patch\n",
        "\n",
        "class DiffMatchPatch(diff_match_patch.diff_match_patch):\n",
        "\n",
        "    def diff_prettyText(self, diffs):\n",
        "        \"\"\"Convert a diff array into a pretty Text report.\n",
        "        Args:\n",
        "          diffs: Array of diff tuples.\n",
        "        Returns:\n",
        "          Text representation.\n",
        "        \"\"\"\n",
        "        results_diff = []\n",
        "        cut_next_new_line = [False]\n",
        "        # print('\\ndiffs:\\n%s\\n' % diffs)\n",
        "\n",
        "        operations = (self.DIFF_INSERT, self.DIFF_DELETE)\n",
        "\n",
        "        def parse(sign):\n",
        "            # print('new1:', text.encode( 'ascii' ))\n",
        "\n",
        "            if text:\n",
        "                new = text\n",
        "\n",
        "            else:\n",
        "                return ''\n",
        "\n",
        "            new = textwrap.indent( \"%s\" % new, sign, lambda line: True )\n",
        "\n",
        "            # force the diff change to show up on a new line for highlighting\n",
        "            if len(results_diff) > 0:\n",
        "                new = '\\n' + new\n",
        "\n",
        "            if new[-1] == '\\n':\n",
        "\n",
        "                if op == self.DIFF_INSERT and next_text and new[-1] == '\\n' and next_text[0] == '\\n':\n",
        "                    cut_next_new_line[0] = True;\n",
        "\n",
        "                    # Avoids a double plus sign showing up when the diff has the element (1, '\\n')\n",
        "                    if len(text) > 1: new = new + '%s\\n' % sign\n",
        "\n",
        "            elif next_op not in operations and next_text and next_text[0] != '\\n':\n",
        "                new = new + '\\n'\n",
        "\n",
        "            # print('new2:', new.encode( 'ascii' ))\n",
        "            return new\n",
        "\n",
        "        for index in range(len(diffs)):\n",
        "            op, text = diffs[index]\n",
        "            if index < len(diffs) - 1: \n",
        "                next_op, next_text = diffs[index+1]\n",
        "            else:\n",
        "                next_op, next_text = (0, \"\")\n",
        "\n",
        "            if op == self.DIFF_INSERT:\n",
        "                results_diff.append( parse( \"+ \" ) )\n",
        "\n",
        "            elif op == self.DIFF_DELETE:\n",
        "                results_diff.append( parse( \"- \" ) )\n",
        "\n",
        "            elif op == self.DIFF_EQUAL:\n",
        "                # print('new3:', text.encode( 'ascii' ))\n",
        "                text = textwrap.indent(text, \"  \")\n",
        "\n",
        "                if cut_next_new_line[0]:\n",
        "                    cut_next_new_line[0] = False\n",
        "                    text = text[1:]\n",
        "\n",
        "                results_diff.append(text)\n",
        "                # print('new4:', text.encode( 'ascii' ))\n",
        "\n",
        "        return \"\".join(results_diff)\n",
        "\n",
        "    def diff_linesToWords(self, text1, text2, delimiter=re.compile('\\n')):\n",
        "        \"\"\"\n",
        "            Split two texts into an array of strings.  Reduce the texts to a string\n",
        "            of hashes where each Unicode character represents one line.\n",
        "\n",
        "            95% of this function code is copied from `diff_linesToChars` on:\n",
        "                https://github.com/google/diff-match-patch/blob/895a9512bbcee0ac5a8ffcee36062c8a79f5dcda/python3/diff_match_patch.py#L381\n",
        "\n",
        "            Copyright 2018 The diff-match-patch Authors.\n",
        "            https://github.com/google/diff-match-patch\n",
        "            Licensed under the Apache License, Version 2.0 (the \"License\");\n",
        "            you may not use this file except in compliance with the License.\n",
        "            You may obtain a copy of the License at\n",
        "              http://www.apache.org/licenses/LICENSE-2.0\n",
        "\n",
        "            Args:\n",
        "                text1: First string.\n",
        "                text2: Second string.\n",
        "                delimiter: a re.compile() expression for the word delimiter type\n",
        "\n",
        "            Returns:\n",
        "                Three element tuple, containing the encoded text1, the encoded text2 and\n",
        "                the array of unique strings.  The zeroth element of the array of unique\n",
        "                strings is intentionally blank.\n",
        "        \"\"\"\n",
        "        lineArray = []  # e.g. lineArray[4] == \"Hello\\n\"\n",
        "        lineHash = {}   # e.g. lineHash[\"Hello\\n\"] == 4\n",
        "\n",
        "        # \"\\x00\" is a valid character, but various debuggers don't like it.\n",
        "        # So we'll insert a junk entry to avoid generating a null character.\n",
        "        lineArray.append('')\n",
        "\n",
        "        def diff_linesToCharsMunge(text):\n",
        "            \"\"\"Split a text into an array of strings.  Reduce the texts to a string\n",
        "            of hashes where each Unicode character represents one line.\n",
        "            Modifies linearray and linehash through being a closure.\n",
        "            Args:\n",
        "                text: String to encode.\n",
        "            Returns:\n",
        "                Encoded string.\n",
        "            \"\"\"\n",
        "            chars = []\n",
        "            # Walk the text, pulling out a substring for each line.\n",
        "            # text.split('\\n') would would temporarily double our memory footprint.\n",
        "            # Modifying text would create many large strings to garbage collect.\n",
        "            lineStart = 0\n",
        "            lineEnd = -1\n",
        "            while lineEnd < len(text) - 1:\n",
        "                lineEnd = delimiter.search(text, lineStart)\n",
        "\n",
        "                if lineEnd:\n",
        "                    lineEnd = lineEnd.start()\n",
        "\n",
        "                else:\n",
        "                    lineEnd = len(text) - 1\n",
        "\n",
        "                line = text[lineStart:lineEnd + 1]\n",
        "\n",
        "                if line in lineHash:\n",
        "                    chars.append(chr(lineHash[line]))\n",
        "                else:\n",
        "                    if len(lineArray) == maxLines:\n",
        "                        # Bail out at 1114111 because chr(1114112) throws.\n",
        "                        line = text[lineStart:]\n",
        "                        lineEnd = len(text)\n",
        "                    lineArray.append(line)\n",
        "                    lineHash[line] = len(lineArray) - 1\n",
        "                    chars.append(chr(len(lineArray) - 1))\n",
        "                lineStart = lineEnd + 1\n",
        "            return \"\".join(chars)\n",
        "\n",
        "        # Allocate 2/3rds of the space for text1, the rest for text2.\n",
        "        maxLines = 666666\n",
        "        chars1 = diff_linesToCharsMunge(text1)\n",
        "        maxLines = 1114111\n",
        "        chars2 = diff_linesToCharsMunge(text2)\n",
        "        return (chars1, chars2, lineArray)"
      ],
      "execution_count": 0,
      "outputs": []
    },
    {
      "cell_type": "code",
      "metadata": {
        "id": "dX_quhgQ9BKE",
        "colab_type": "code",
        "colab": {}
      },
      "source": [
        "def textdiff(diffMode, expected, actual):\n",
        "    \"\"\"\n",
        "        `diffMode` whether `characters diff=0`, `words diff=1` or `lines diff=2` will be used.\n",
        "    \"\"\"\n",
        "    diff_match = DiffMatchPatch()\n",
        "\n",
        "    if diffMode == 0:\n",
        "        diffs = diff_match.diff_main(expected, actual)\n",
        "\n",
        "    else:\n",
        "        diff_struct = diff_match.diff_linesToWords(expected, actual,\n",
        "                re.compile(r'\\b') if diffMode == 1 else re.compile(r'\\n') )\n",
        "\n",
        "        lineText1 = diff_struct[0] # .chars1;\n",
        "        lineText2 = diff_struct[1] # .chars2;\n",
        "        lineArray = diff_struct[2] # .lineArray;\n",
        "\n",
        "        diffs = diff_match.diff_main(lineText1, lineText2, False);\n",
        "        diff_match.diff_charsToLines(diffs, lineArray);\n",
        "        diff_match.diff_cleanupSemantic(diffs)\n",
        "\n",
        "    return diff_match.diff_prettyText(diffs)"
      ],
      "execution_count": 0,
      "outputs": []
    },
    {
      "cell_type": "code",
      "metadata": {
        "id": "z8R8oZ6gM9ud",
        "colab_type": "code",
        "colab": {
          "base_uri": "https://localhost:8080/",
          "height": 204
        },
        "outputId": "960ec3ea-69bb-4ada-83f8-e1e1400b7157"
      },
      "source": [
        "import pandas as pd\n",
        "clauses = pd.read_excel(\"/content/POC_Agreement.xlsx\")\n",
        "clauses.fillna('',inplace=True)\n",
        "clauses.tail()\n"
      ],
      "execution_count": 51,
      "outputs": [
        {
          "output_type": "execute_result",
          "data": {
            "text/html": [
              "<div>\n",
              "<style scoped>\n",
              "    .dataframe tbody tr th:only-of-type {\n",
              "        vertical-align: middle;\n",
              "    }\n",
              "\n",
              "    .dataframe tbody tr th {\n",
              "        vertical-align: top;\n",
              "    }\n",
              "\n",
              "    .dataframe thead th {\n",
              "        text-align: right;\n",
              "    }\n",
              "</style>\n",
              "<table border=\"1\" class=\"dataframe\">\n",
              "  <thead>\n",
              "    <tr style=\"text-align: right;\">\n",
              "      <th></th>\n",
              "      <th>Clauses</th>\n",
              "      <th>API Supply Agreement - Sodium Chloride Granular-13062017MR-rev.6.27.2017 (draft).txt</th>\n",
              "      <th>FINAL - Pfanstiehl Baxter Supply Agreement.txt</th>\n",
              "    </tr>\n",
              "  </thead>\n",
              "  <tbody>\n",
              "    <tr>\n",
              "      <th>16</th>\n",
              "      <td>7.2.2</td>\n",
              "      <td></td>\n",
              "      <td>Manufacturing Expansion. In the event Baxter d...</td>\n",
              "    </tr>\n",
              "    <tr>\n",
              "      <th>17</th>\n",
              "      <td>13.2</td>\n",
              "      <td></td>\n",
              "      <td>Notwithstanding anything to contrary set forth...</td>\n",
              "    </tr>\n",
              "    <tr>\n",
              "      <th>18</th>\n",
              "      <td>15.3</td>\n",
              "      <td></td>\n",
              "      <td>Permitted Exceptions. The confidentiality obli...</td>\n",
              "    </tr>\n",
              "    <tr>\n",
              "      <th>19</th>\n",
              "      <td>15.3.5</td>\n",
              "      <td></td>\n",
              "      <td>becomes available to the Receiving Party from ...</td>\n",
              "    </tr>\n",
              "    <tr>\n",
              "      <th>20</th>\n",
              "      <td>15.8</td>\n",
              "      <td></td>\n",
              "      <td>No Limitation of Rights.  Nothing in this Agre...</td>\n",
              "    </tr>\n",
              "  </tbody>\n",
              "</table>\n",
              "</div>"
            ],
            "text/plain": [
              "   Clauses  ...     FINAL - Pfanstiehl Baxter Supply Agreement.txt\n",
              "16   7.2.2  ...  Manufacturing Expansion. In the event Baxter d...\n",
              "17    13.2  ...  Notwithstanding anything to contrary set forth...\n",
              "18    15.3  ...  Permitted Exceptions. The confidentiality obli...\n",
              "19  15.3.5  ...  becomes available to the Receiving Party from ...\n",
              "20    15.8  ...  No Limitation of Rights.  Nothing in this Agre...\n",
              "\n",
              "[5 rows x 3 columns]"
            ]
          },
          "metadata": {
            "tags": []
          },
          "execution_count": 51
        }
      ]
    },
    {
      "cell_type": "code",
      "metadata": {
        "id": "MyhBmD6qTfwe",
        "colab_type": "code",
        "colab": {}
      },
      "source": [
        "def show_diff(*args):  \n",
        "  return textdiff(1,args[1], args[2])   \n"
      ],
      "execution_count": 0,
      "outputs": []
    },
    {
      "cell_type": "code",
      "metadata": {
        "id": "PTyGRanUOeAh",
        "colab_type": "code",
        "colab": {}
      },
      "source": [
        ""
      ],
      "execution_count": 0,
      "outputs": []
    },
    {
      "cell_type": "code",
      "metadata": {
        "id": "wbgo8A7pPa2u",
        "colab_type": "code",
        "colab": {
          "base_uri": "https://localhost:8080/",
          "height": 190
        },
        "outputId": "005eebfb-7dcb-4ebb-e4fa-0e162a22ffe1"
      },
      "source": [
        "print(clauses['Differences'][2])"
      ],
      "execution_count": 48,
      "outputs": [
        {
          "output_type": "stream",
          "text": [
            "- \"Supplier shall use commercially reasonable and diligent efforts to continuously maintain a sufficient stock, of no less than 150 tons worth of raw materials required to maSupplier shall use commercially reasonable and diligent efforts to continuously maintain a sufficient stock, of no less than 150 tons worth of raw materials required to manufacture the API in quantities no less than those set forth in the most recent forecast at any time.\n",
            "- \n",
            "- nufacture the API in quantities no less than those set forth in the most recent forecast at any time.\"\n",
            "- \n",
            "- \n",
            "- \n",
            "\n",
            "+ During the Initial Safety Stock Period, Pfanstiehl agrees to maintain the Initial Safety Stock at the then-applicable Safety Stock Location in accordance with the following schedule: (a) the quantity of Safety Stock forecasted by Baxter, but in any event shall not exceed 18,000 kilograms of API shall be placed into safety stock at the Safety Stock Location on or before December 31, 2018, and (b) the remaining amount of the Initial Safety Stock not yet delivered in accordance with clause (a) shall be placed into safety stock at the then-applicable Safety Stock Location by the end of the Initial Safety Stock Period.  After the end of the Initial Safety Stock Period and throughout the remainder of the Term, Pfanstiehl agrees to maintain the Safety Stock at the then-applicable Safety Stock Location.  As of the first day of the Initial Safety Stock Period and thereafter, Pfanstiehl shall be entitled to invoice Baxter, and Baxter shall pay to Pfanstiehl, the Purchase Price for such Safety Stock in accordance with the terms of Section 4 and any third party fees incurred by Pfanstiehl associated with storage, inventorying, warehousing, transport and shipping of the Safety Stock.  Title to such Safety Stock shall pass to Baxter upon payment by Baxter for such Safety Stock pursuant to Section 4.  Pfanstiehl shall properly store the Safety Stock at the Pfanstiehl Manufacturing Facility and shall segregate the Safety Stock from other inventory of API, clearly mark such Safety Stock as the property of Baxter, and shall not permit any lien or encumbrance to apply or attach to such Safety Stock.  Risk of loss for such Safety Stock shall pass to Baxter in accordance with the terms of shipment set forth in Section 5.1.  Pfanstiehl shall ship quantities of such Safety Stock as directed by Baxter from time to time pursuant to the shipment and delivery terms set forth in Section 5.1.\n",
            "+ Period, Pfanstiehl agrees to maintain the Initial Safety Stock at the then-applicable Safety Stock Location in accordance with the following schedule: (a) the quantity of Safety Stock forecasted by Baxter, but in any event shall not exceed 18,000 kilograms of API shall be placed into safety stock at the Safety Stock Location on or before December 31, 2018, and (b) the remaining amount of the Initial Safety Stock not yet delivered in accordance with clause (a) shall be placed into safety stock at the then-applicable Safety Stock Location by the end of the Initial Safety Stock Period.  After the end of the Initial Safety Stock Period and throughout the remainder of the Term, Pfanstiehl agrees to maintain the Safety Stock at the then-applicable Safety Stock Location.  As of the first day of the Initial Safety Stock Period and thereafter, Pfanstiehl shall be entitled to invoice Baxter, and Baxter shall pay to Pfanstiehl, the Purchase Price for such Safety Stock in accordance with the terms of Section 4 and any third party fees incurred by Pfanstiehl associated with storage, inventorying, warehousing, transport and shipping of the Safety Stock.  Title to such Safety Stock shall pass to Baxter upon payment by Baxter for such Safety Stock pursuant to Section 4.  Pfanstiehl shall properly store the Safety Stock at the Pfanstiehl Manufacturing Facility and shall segregate the Safety Stock from other inventory of API, clearly mark such Safety Stock as the property of Baxter, and shall not permit any lien or encumbrance to apply or attach to such Safety Stock.  Risk of loss for such Safety Stock shall pass to Baxter in accordance with the terms of shipment set forth in Section 5.1.  Pfanstiehl shall ship quantities of such Safety Stock as directed by Baxter from time to time pursuant to the shipment and delivery terms set forth in Section 5.1.\n"
          ],
          "name": "stdout"
        }
      ]
    },
    {
      "cell_type": "code",
      "metadata": {
        "id": "z5XqXJCAVya4",
        "colab_type": "code",
        "colab": {}
      },
      "source": [
        "clauses.to_excel(\"comparison.xlsx\")"
      ],
      "execution_count": 0,
      "outputs": []
    },
    {
      "cell_type": "code",
      "metadata": {
        "id": "4UjtL8NOWAPL",
        "colab_type": "code",
        "colab": {}
      },
      "source": [
        ""
      ],
      "execution_count": 0,
      "outputs": []
    }
  ]
}