{
  "nbformat": 4,
  "nbformat_minor": 0,
  "metadata": {
    "colab": {
      "name": "string manupulation.ipynb",
      "provenance": [],
      "include_colab_link": true
    },
    "kernelspec": {
      "name": "python3",
      "display_name": "Python 3"
    }
  },
  "cells": [
    {
      "cell_type": "markdown",
      "metadata": {
        "id": "view-in-github",
        "colab_type": "text"
      },
      "source": [
        "<a href=\"https://colab.research.google.com/github/Shaitender/002_MachineLearning_eBook/blob/master/string_manupulation.ipynb\" target=\"_parent\"><img src=\"https://colab.research.google.com/assets/colab-badge.svg\" alt=\"Open In Colab\"/></a>"
      ]
    },
    {
      "cell_type": "code",
      "metadata": {
        "id": "bUSPUR8JJn0J",
        "colab_type": "code",
        "colab": {
          "base_uri": "https://localhost:8080/",
          "height": 68
        },
        "outputId": "0d6972fd-9ceb-4cd0-889e-747655ea6b12"
      },
      "source": [
        "string = \"this is test string\"\n",
        "\n",
        "print('Old String: ', string)\n",
        "print('Capitalized String:', string.capitalize())\n",
        "print(\"Upper String :\", string.upper())\n"
      ],
      "execution_count": 2,
      "outputs": [
        {
          "output_type": "stream",
          "text": [
            "Old String:  this is test string\n",
            "Capitalized String: This is test string\n",
            "Upper String : THIS IS TEST STRING\n"
          ],
          "name": "stdout"
        }
      ]
    }
  ]
}