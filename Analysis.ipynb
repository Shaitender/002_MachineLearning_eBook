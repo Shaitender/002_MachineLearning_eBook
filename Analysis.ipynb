{
  "nbformat": 4,
  "nbformat_minor": 0,
  "metadata": {
    "colab": {
      "name": "Untitled20.ipynb",
      "provenance": [],
      "toc_visible": true,
      "authorship_tag": "ABX9TyM2re5e3rhEmEvBKJoXqxaN",
      "include_colab_link": true
    },
    "kernelspec": {
      "name": "python3",
      "display_name": "Python 3"
    },
    "accelerator": "GPU"
  },
  "cells": [
    {
      "cell_type": "markdown",
      "metadata": {
        "id": "view-in-github",
        "colab_type": "text"
      },
      "source": [
        "<a href=\"https://colab.research.google.com/github/Shaitender/002_MachineLearning_eBook/blob/master/Analysis.ipynb\" target=\"_parent\"><img src=\"https://colab.research.google.com/assets/colab-badge.svg\" alt=\"Open In Colab\"/></a>"
      ]
    },
    {
      "cell_type": "code",
      "metadata": {
        "id": "oDDUfgUHc0AD",
        "colab_type": "code",
        "colab": {}
      },
      "source": [
        "import pandas as pd\n",
        "import numpy as np\n",
        "\n",
        "import matplotlib.pyplot as plt\n",
        "import seaborn as sns"
      ],
      "execution_count": 0,
      "outputs": []
    },
    {
      "cell_type": "code",
      "metadata": {
        "id": "_mm8l03hdKrq",
        "colab_type": "code",
        "colab": {}
      },
      "source": [
        "df = pd.read_csv(\"/content/popularity.csv\")"
      ],
      "execution_count": 0,
      "outputs": []
    },
    {
      "cell_type": "code",
      "metadata": {
        "id": "Nk6ReV1YeBzE",
        "colab_type": "code",
        "colab": {}
      },
      "source": [
        "fil_df = df[' shares']"
      ],
      "execution_count": 0,
      "outputs": []
    },
    {
      "cell_type": "code",
      "metadata": {
        "id": "9Fa7qTdug5rd",
        "colab_type": "code",
        "colab": {
          "base_uri": "https://localhost:8080/",
          "height": 170
        },
        "outputId": "4f42aff4-79a3-4819-fd2f-edc1836bb92f"
      },
      "source": [
        "fil_df.describe()"
      ],
      "execution_count": 67,
      "outputs": [
        {
          "output_type": "execute_result",
          "data": {
            "text/plain": [
              "count     39644.000000\n",
              "mean       3395.380184\n",
              "std       11626.950749\n",
              "min           1.000000\n",
              "25%         946.000000\n",
              "50%        1400.000000\n",
              "75%        2800.000000\n",
              "max      843300.000000\n",
              "Name:  shares, dtype: float64"
            ]
          },
          "metadata": {
            "tags": []
          },
          "execution_count": 67
        }
      ]
    },
    {
      "cell_type": "code",
      "metadata": {
        "id": "6PoRSJ_ri_zs",
        "colab_type": "code",
        "colab": {
          "base_uri": "https://localhost:8080/",
          "height": 34
        },
        "outputId": "7c792c52-3410-43ce-cd82-daa65e35f0bc"
      },
      "source": [
        "from scipy import stats\n",
        "import numpy as np\n",
        "z = np.abs(stats.zscore(fil_df))\n",
        "print(z)"
      ],
      "execution_count": 41,
      "outputs": [
        {
          "output_type": "stream",
          "text": [
            "[0.24102756 0.23087859 0.16301816 ... 0.12861489 0.19742142 0.18021979]\n"
          ],
          "name": "stdout"
        }
      ]
    },
    {
      "cell_type": "code",
      "metadata": {
        "id": "ZkWUW2ABjgO8",
        "colab_type": "code",
        "colab": {
          "base_uri": "https://localhost:8080/",
          "height": 612
        },
        "outputId": "a5b6b9d9-4a58-47a7-daef-0c950d5e25e6"
      },
      "source": [
        "threshold = 3\n",
        "print(np.where(z > 3))"
      ],
      "execution_count": 42,
      "outputs": [
        {
          "output_type": "stream",
          "text": [
            "(array([  410,   564,   969,  1391,  1508,  1881,  2142,  2163,  2408,\n",
            "        2451,  2658,  2843,  3030,  3043,  3139,  3145,  3600,  3672,\n",
            "        3733,  3795,  4290,  4368,  4506,  4607,  5370,  5554,  5607,\n",
            "        5777,  6119,  6361,  6525,  6557,  6957,  7200,  7224,  7366,\n",
            "        7479,  7597,  8037,  8142,  8268,  8291,  8530,  9099,  9245,\n",
            "        9365,  9448,  9575,  9788,  9797,  9827,  9853, 10124, 10325,\n",
            "       10608, 10824, 10867, 11144, 11213, 11242, 11314, 11485, 11807,\n",
            "       12013, 12072, 12168, 12241, 12418, 12869, 12919, 12954, 12970,\n",
            "       13263, 13737, 13888, 14051, 14202, 14259, 14290, 14396, 14484,\n",
            "       14523, 14555, 14757, 14762, 14890, 14893, 15075, 15164, 15198,\n",
            "       15346, 15415, 15435, 15552, 15577, 15717, 15914, 16009, 16045,\n",
            "       16113, 16145, 16149, 16268, 16277, 16334, 16497, 16630, 16642,\n",
            "       16686, 16748, 16803, 16837, 16891, 16989, 17020, 17267, 17308,\n",
            "       17314, 17315, 17444, 17522, 17544, 17606, 17616, 17784, 17814,\n",
            "       17850, 17937, 18037, 18055, 18197, 18201, 18266, 18386, 18414,\n",
            "       18488, 18490, 18555, 18726, 18788, 18805, 18806, 18850, 18874,\n",
            "       18901, 18941, 19124, 19235, 19303, 19533, 19645, 19652, 19698,\n",
            "       19980, 20112, 20162, 20623, 20649, 20735, 20851, 20874, 20923,\n",
            "       21007, 21086, 21241, 21343, 21568, 21674, 22062, 22203, 22223,\n",
            "       22355, 22367, 22441, 22586, 22612, 22666, 22686, 22701, 23104,\n",
            "       23237, 23299, 23348, 23434, 23471, 23514, 23585, 23754, 24323,\n",
            "       24654, 24715, 24718, 25008, 25023, 25114, 25752, 25795, 25957,\n",
            "       26003, 26101, 26142, 26223, 26270, 26321, 26432, 26548, 26577,\n",
            "       26721, 26750, 26841, 27023, 27055, 27088, 27243, 27260, 27462,\n",
            "       27541, 27756, 28470, 28523, 28532, 28766, 28981, 28989, 29063,\n",
            "       29229, 29523, 29570, 29834, 29977, 30015, 30101, 30220, 30637,\n",
            "       30919, 30991, 30998, 31102, 31397, 31458, 31459, 31483, 31497,\n",
            "       31563, 31855, 31870, 31930, 32116, 32135, 32153, 32273, 32275,\n",
            "       32356, 32464, 32494, 32541, 32545, 32748, 32763, 32908, 33158,\n",
            "       33164, 33182, 33191, 33620, 33648, 34173, 34344, 34394, 34442,\n",
            "       34724, 34772, 34917, 34966, 35052, 35121, 35184, 35215, 35227,\n",
            "       35256, 35274, 35556, 35658, 35872, 36087, 36162, 36452, 36869,\n",
            "       36945, 36995, 37542, 37590, 37771, 37855, 37873, 37874, 38204,\n",
            "       38381, 38562, 38592, 38627, 38660, 38666, 38735, 39005, 39247,\n",
            "       39322, 39537]),)\n"
          ],
          "name": "stdout"
        }
      ]
    },
    {
      "cell_type": "code",
      "metadata": {
        "id": "UoapmabEjxNu",
        "colab_type": "code",
        "colab": {
          "base_uri": "https://localhost:8080/",
          "height": 170
        },
        "outputId": "510aa317-9759-4b0d-812d-775f59c04e7b"
      },
      "source": [
        "fil_df[abs(z) < 3 ].describe()"
      ],
      "execution_count": 47,
      "outputs": [
        {
          "output_type": "execute_result",
          "data": {
            "text/plain": [
              "count    39336.000000\n",
              "mean      2755.416260\n",
              "std       3949.651794\n",
              "min          1.000000\n",
              "25%        942.000000\n",
              "50%       1400.000000\n",
              "75%       2700.000000\n",
              "max      38200.000000\n",
              "Name:  shares, dtype: float64"
            ]
          },
          "metadata": {
            "tags": []
          },
          "execution_count": 47
        }
      ]
    },
    {
      "cell_type": "code",
      "metadata": {
        "id": "-gpUPUSPmcqH",
        "colab_type": "code",
        "colab": {
          "base_uri": "https://localhost:8080/",
          "height": 34
        },
        "outputId": "2fe8d4b1-9f5b-438b-bbe3-a4ccf7a16638"
      },
      "source": [
        "Q1 = fil_df.quantile(0.25)\n",
        "Q3 = fil_df.quantile(0.75)\n",
        "IQR = Q3 - Q1\n",
        "print(IQR)"
      ],
      "execution_count": 59,
      "outputs": [
        {
          "output_type": "stream",
          "text": [
            "1854.0\n"
          ],
          "name": "stdout"
        }
      ]
    },
    {
      "cell_type": "code",
      "metadata": {
        "id": "FPuIHHLOkQLc",
        "colab_type": "code",
        "colab": {}
      },
      "source": [
        "fil_df_out = fil_df[~((fil_df < (Q1 - 1.5 * IQR)) |(fil_df > (Q3 + 1.5 * IQR)))]"
      ],
      "execution_count": 0,
      "outputs": []
    },
    {
      "cell_type": "code",
      "metadata": {
        "id": "Mqsa4Os6mlW7",
        "colab_type": "code",
        "colab": {
          "base_uri": "https://localhost:8080/",
          "height": 170
        },
        "outputId": "c4eb3eb6-889e-4b2c-e1b6-73025b437990"
      },
      "source": [
        "fil_df_out.describe()"
      ],
      "execution_count": 61,
      "outputs": [
        {
          "output_type": "execute_result",
          "data": {
            "text/plain": [
              "count    35103.000000\n",
              "mean      1671.972652\n",
              "std       1103.199563\n",
              "min          1.000000\n",
              "25%        903.000000\n",
              "50%       1300.000000\n",
              "75%       2100.000000\n",
              "max       5500.000000\n",
              "Name:  shares, dtype: float64"
            ]
          },
          "metadata": {
            "tags": []
          },
          "execution_count": 61
        }
      ]
    },
    {
      "cell_type": "code",
      "metadata": {
        "id": "boWPtqzcmppT",
        "colab_type": "code",
        "colab": {}
      },
      "source": [
        "from scipy import stats\n",
        "fil_df_out=fil_df[(np.abs(stats.zscore(fil_df)) < 3)]"
      ],
      "execution_count": 0,
      "outputs": []
    },
    {
      "cell_type": "code",
      "metadata": {
        "id": "rY4ZxIvjnJoF",
        "colab_type": "code",
        "colab": {
          "base_uri": "https://localhost:8080/",
          "height": 170
        },
        "outputId": "76e4179d-1ff5-48fc-f63a-6bd90544d56e"
      },
      "source": [
        "fil_df_out.describe()"
      ],
      "execution_count": 69,
      "outputs": [
        {
          "output_type": "execute_result",
          "data": {
            "text/plain": [
              "count    39336.000000\n",
              "mean      2755.416260\n",
              "std       3949.651794\n",
              "min          1.000000\n",
              "25%        942.000000\n",
              "50%       1400.000000\n",
              "75%       2700.000000\n",
              "max      38200.000000\n",
              "Name:  shares, dtype: float64"
            ]
          },
          "metadata": {
            "tags": []
          },
          "execution_count": 69
        }
      ]
    },
    {
      "cell_type": "code",
      "metadata": {
        "id": "Ll4BPz8vnLiC",
        "colab_type": "code",
        "colab": {}
      },
      "source": [
        ""
      ],
      "execution_count": 0,
      "outputs": []
    }
  ]
}